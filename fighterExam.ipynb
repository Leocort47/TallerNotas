{
  "nbformat": 4,
  "nbformat_minor": 0,
  "metadata": {
    "colab": {
      "provenance": [],
      "collapsed_sections": []
    },
    "kernelspec": {
      "name": "python3",
      "display_name": "Python 3"
    },
    "language_info": {
      "name": "python"
    }
  },
  "cells": [
    {
      "cell_type": "code",
      "execution_count": null,
      "metadata": {
        "id": "9GLMfatvNRjI"
      },
      "outputs": [],
      "source": []
    },
    {
      "cell_type": "markdown",
      "source": [
        "# Fight"
      ],
      "metadata": {
        "id": "un80st2hNYZa"
      }
    },
    {
      "cell_type": "code",
      "source": [
        "from pickle import INST\n",
        "#Crear un programa que me pida m notas de n estudiantes y imprimir en pantalla cual es el mejor y peor estudiante y cual es el peor curso\n",
        "\n",
        "\n",
        "print(\"Bienvenidos al sistemas de notas escolar!!!\")\n",
        "print(\" \")\n",
        "print(\"Porfa digita en pantalla los siguientes datos: \")\n",
        "print(\" \")\n",
        "\n",
        "promedioGrupo1= 0\n",
        "promedioGrupo2= 0\n",
        "promedioGrupo3= 0\n",
        "ganador=0\n",
        "\n",
        "grupo1 = int(input(\"Cuantos estudiantes hacen parte del grupo #1: \"))\n",
        "print(\" \")\n",
        "grupo2 = int(input(\"Cuantos estudiantes hacen parte del grupo #2: \"))\n",
        "print(\" \")\n",
        "grupo3 = int(input(\"Cuantos estudiantes hacen parte del grupo #3: \"))\n",
        "\n",
        "for i in range(grupo1):\n",
        "  notas1=float(input(f\"cual es la nota del estudiante {i+1} del grupo1: \" ))\n",
        "  notas1 += notas1\n",
        "promedioGrupo1 = notas1/grupo1\n",
        "\n",
        "\n",
        "max_value1 = max(int(i))\n",
        "print('La nota maxima del grupo 1 es:', float(max_value1))\n",
        "\n",
        "min_value1= min(int(i))\n",
        "print('Minimum Value: ', float(min_value1))\n",
        "\n",
        "print(\" \")\n",
        "\n",
        "\n",
        "\n",
        "for j in range(grupo2):\n",
        "  notas2=float(input(f\"cual es la nota del estudiante {j+1} del grupo2: \" ))\n",
        "  notas2 += notas2\n",
        "promedioGrupo1 = notas2/grupo2\n",
        "\n",
        "max_value2 = max(int(j))\n",
        "print('Maximum value:', float(max_value2))\n",
        "\n",
        "min_value2=min(int(j))\n",
        "print('Minimum Value: ', min_value2)\n",
        "\n",
        "print(\" \")\n",
        "\n",
        "for k in range(grupo3):\n",
        "  notas3=float(input(f\"cual es la nota del estudiante {k+1} del grupo3: \" ))\n",
        "  notas3 += notas3\n",
        "promedioGrupo1 = notas3/grupo3\n",
        "\n",
        "max_value3 = max(int(k))\n",
        "print('Maximum value:', max_value3)\n",
        "\n",
        "min_value3=min(int(k))\n",
        "print('Minimum Value: ', float(min_value3))\n",
        "\n",
        "\n",
        "ganador = \"El grupo1 fue el mejor\" if promedioGrupo1> promedioGrupo2 and promedioGrupo3 else \"El grupo2 fue el mejor\" if promedioGrupo2> promedioGrupo1 and promedioGrupo3 else \"El grupo3 fue el mejor\" if promedioGrupo3> promedioGrupo2 and promedioGrupo1 else \"error!!\"\n",
        "print(\"El grupo ganador es: \",ganador)\n",
        "\n",
        "\n",
        "\n",
        "\n",
        "\n",
        "\n"
      ],
      "metadata": {
        "colab": {
          "base_uri": "https://localhost:8080/",
          "height": 426
        },
        "id": "2tE7ZDOXNcJa",
        "outputId": "a8d7317f-3969-45ac-e26e-350ffb0769f0"
      },
      "execution_count": 6,
      "outputs": [
        {
          "name": "stdout",
          "output_type": "stream",
          "text": [
            "Bienvenidos al sistemas de notas escolar!!!\n",
            " \n",
            "Porfa digita en pantalla los siguientes datos: \n",
            " \n",
            "Cuantos estudiantes hacen parte del grupo #1: 2\n",
            " \n",
            "Cuantos estudiantes hacen parte del grupo #2: 2\n",
            " \n",
            "Cuantos estudiantes hacen parte del grupo #3: 2\n",
            "cual es la nota del estudiante 1 del grupo1: 3.5\n",
            "cual es la nota del estudiante 2 del grupo1: 4\n"
          ]
        },
        {
          "output_type": "error",
          "ename": "TypeError",
          "evalue": "ignored",
          "traceback": [
            "\u001b[0;31m---------------------------------------------------------------------------\u001b[0m",
            "\u001b[0;31mTypeError\u001b[0m                                 Traceback (most recent call last)",
            "\u001b[0;32m<ipython-input-6-4a2027044266>\u001b[0m in \u001b[0;36m<module>\u001b[0;34m\u001b[0m\n\u001b[1;32m     24\u001b[0m \u001b[0;34m\u001b[0m\u001b[0m\n\u001b[1;32m     25\u001b[0m \u001b[0;34m\u001b[0m\u001b[0m\n\u001b[0;32m---> 26\u001b[0;31m \u001b[0mmax_value1\u001b[0m \u001b[0;34m=\u001b[0m \u001b[0mmax\u001b[0m\u001b[0;34m(\u001b[0m\u001b[0mfloat\u001b[0m\u001b[0;34m(\u001b[0m\u001b[0mi\u001b[0m\u001b[0;34m)\u001b[0m\u001b[0;34m)\u001b[0m\u001b[0;34m\u001b[0m\u001b[0;34m\u001b[0m\u001b[0m\n\u001b[0m\u001b[1;32m     27\u001b[0m \u001b[0mprint\u001b[0m\u001b[0;34m(\u001b[0m\u001b[0;34m'Maximum value:'\u001b[0m\u001b[0;34m,\u001b[0m \u001b[0mmax_value1\u001b[0m\u001b[0;34m)\u001b[0m\u001b[0;34m\u001b[0m\u001b[0;34m\u001b[0m\u001b[0m\n\u001b[1;32m     28\u001b[0m \u001b[0;34m\u001b[0m\u001b[0m\n",
            "\u001b[0;31mTypeError\u001b[0m: 'float' object is not iterable"
          ]
        }
      ]
    },
    {
      "cell_type": "code",
      "source": [],
      "metadata": {
        "id": "I37vsS9OXDg1"
      },
      "execution_count": null,
      "outputs": []
    }
  ]
}